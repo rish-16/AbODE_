{
 "cells": [
  {
   "cell_type": "code",
   "execution_count": 1,
   "id": "a39ca59d",
   "metadata": {},
   "outputs": [],
   "source": [
    "from rdkit import Chem\n",
    "import matplotlib.pyplot as plt\n",
    "import numpy as np\n",
    "import pickle as pkl"
   ]
  },
  {
   "cell_type": "code",
   "execution_count": 2,
   "id": "83263e2c",
   "metadata": {},
   "outputs": [],
   "source": [
    "path = \"V.Q.G.Mel.pickle\"\n",
    "\n",
    "with open(path, \"rb\") as f:\n",
    "    data = pkl.load(f)"
   ]
  },
  {
   "cell_type": "code",
   "execution_count": 3,
   "id": "f10e672d",
   "metadata": {},
   "outputs": [],
   "source": [
    "conf_mol = data['rd_mol']"
   ]
  },
  {
   "cell_type": "code",
   "execution_count": 4,
   "id": "a066622f",
   "metadata": {},
   "outputs": [
    {
     "name": "stdout",
     "output_type": "stream",
     "text": [
      "794\n"
     ]
    }
   ],
   "source": [
    "print (len(conf_mol.GetConformers()))"
   ]
  },
  {
   "cell_type": "code",
   "execution_count": 5,
   "id": "dd2c9f44",
   "metadata": {},
   "outputs": [],
   "source": [
    "from rdkit.Chem import Draw\n",
    "from rdkit.Chem import AllChem"
   ]
  },
  {
   "cell_type": "code",
   "execution_count": 6,
   "id": "36a1b928",
   "metadata": {},
   "outputs": [
    {
     "name": "stdout",
     "output_type": "stream",
     "text": [
      "Requirement already satisfied: kora in /opt/anaconda3/envs/pyg3/lib/python3.7/site-packages (0.9.20)\n",
      "Requirement already satisfied: py3Dmol in /opt/anaconda3/envs/pyg3/lib/python3.7/site-packages (2.0.4)\n",
      "Requirement already satisfied: ipython in /opt/anaconda3/envs/pyg3/lib/python3.7/site-packages (from kora) (7.34.0)\n",
      "Requirement already satisfied: fastcore in /opt/anaconda3/envs/pyg3/lib/python3.7/site-packages (from kora) (1.5.29)\n",
      "Requirement already satisfied: pip in /opt/anaconda3/envs/pyg3/lib/python3.7/site-packages (from fastcore->kora) (23.2.1)\n",
      "Requirement already satisfied: packaging in /opt/anaconda3/envs/pyg3/lib/python3.7/site-packages (from fastcore->kora) (23.1)\n",
      "Requirement already satisfied: setuptools>=18.5 in /opt/anaconda3/envs/pyg3/lib/python3.7/site-packages (from ipython->kora) (68.0.0)\n",
      "Requirement already satisfied: jedi>=0.16 in /opt/anaconda3/envs/pyg3/lib/python3.7/site-packages (from ipython->kora) (0.18.2)\n",
      "Requirement already satisfied: decorator in /opt/anaconda3/envs/pyg3/lib/python3.7/site-packages (from ipython->kora) (5.1.1)\n",
      "Requirement already satisfied: pickleshare in /opt/anaconda3/envs/pyg3/lib/python3.7/site-packages (from ipython->kora) (0.7.5)\n",
      "Requirement already satisfied: traitlets>=4.2 in /opt/anaconda3/envs/pyg3/lib/python3.7/site-packages (from ipython->kora) (5.9.0)\n",
      "Requirement already satisfied: prompt-toolkit!=3.0.0,!=3.0.1,<3.1.0,>=2.0.0 in /opt/anaconda3/envs/pyg3/lib/python3.7/site-packages (from ipython->kora) (3.0.38)\n",
      "Requirement already satisfied: pygments in /opt/anaconda3/envs/pyg3/lib/python3.7/site-packages (from ipython->kora) (2.15.1)\n",
      "Requirement already satisfied: backcall in /opt/anaconda3/envs/pyg3/lib/python3.7/site-packages (from ipython->kora) (0.2.0)\n",
      "Requirement already satisfied: matplotlib-inline in /opt/anaconda3/envs/pyg3/lib/python3.7/site-packages (from ipython->kora) (0.1.6)\n",
      "Requirement already satisfied: pexpect>4.3 in /opt/anaconda3/envs/pyg3/lib/python3.7/site-packages (from ipython->kora) (4.8.0)\n",
      "Requirement already satisfied: appnope in /opt/anaconda3/envs/pyg3/lib/python3.7/site-packages (from ipython->kora) (0.1.3)\n",
      "Requirement already satisfied: parso<0.9.0,>=0.8.0 in /opt/anaconda3/envs/pyg3/lib/python3.7/site-packages (from jedi>=0.16->ipython->kora) (0.8.3)\n",
      "Requirement already satisfied: ptyprocess>=0.5 in /opt/anaconda3/envs/pyg3/lib/python3.7/site-packages (from pexpect>4.3->ipython->kora) (0.7.0)\n",
      "Requirement already satisfied: wcwidth in /opt/anaconda3/envs/pyg3/lib/python3.7/site-packages (from prompt-toolkit!=3.0.0,!=3.0.1,<3.1.0,>=2.0.0->ipython->kora) (0.2.6)\n"
     ]
    }
   ],
   "source": [
    "!pip install kora py3Dmol"
   ]
  },
  {
   "cell_type": "code",
   "execution_count": 8,
   "id": "d83f8314",
   "metadata": {},
   "outputs": [],
   "source": [
    "import kora.install.rdkit\n",
    "import py3Dmol"
   ]
  },
  {
   "cell_type": "code",
   "execution_count": 11,
   "id": "9f31d5ed",
   "metadata": {},
   "outputs": [
    {
     "name": "stderr",
     "output_type": "stream",
     "text": [
      "[17:40:25] Molecule does not have explicit Hs. Consider calling AddHs()\n",
      "[17:40:25] Molecule does not have explicit Hs. Consider calling AddHs()\n"
     ]
    },
    {
     "data": {
      "application/3dmoljs_load.v0": "<div id=\"3dmolviewer_16956348259121249\"  style=\"position: relative; width: 500px; height: 500px;\">\n        <p id=\"3dmolwarning_16956348259121249\" style=\"background-color:#ffcccc;color:black\">You appear to be running in JupyterLab (or JavaScript failed to load for some other reason).  You need to install the 3dmol extension: <br>\n        <tt>jupyter labextension install jupyterlab_3dmol</tt></p>\n        </div>\n<script>\n\nvar loadScriptAsync = function(uri){\n  return new Promise((resolve, reject) => {\n    //this is to ignore the existence of requirejs amd\n    var savedexports, savedmodule;\n    if (typeof exports !== 'undefined') savedexports = exports;\n    else exports = {}\n    if (typeof module !== 'undefined') savedmodule = module;\n    else module = {}\n\n    var tag = document.createElement('script');\n    tag.src = uri;\n    tag.async = true;\n    tag.onload = () => {\n        exports = savedexports;\n        module = savedmodule;\n        resolve();\n    };\n  var firstScriptTag = document.getElementsByTagName('script')[0];\n  firstScriptTag.parentNode.insertBefore(tag, firstScriptTag);\n});\n};\n\nif(typeof $3Dmolpromise === 'undefined') {\n$3Dmolpromise = null;\n  $3Dmolpromise = loadScriptAsync('https://cdnjs.cloudflare.com/ajax/libs/3Dmol/2.0.4/3Dmol-min.js');\n}\n\nvar viewer_16956348259121249 = null;\nvar warn = document.getElementById(\"3dmolwarning_16956348259121249\");\nif(warn) {\n    warn.parentNode.removeChild(warn);\n}\n$3Dmolpromise.then(function() {\nviewer_16956348259121249 = $3Dmol.createViewer(document.getElementById(\"3dmolviewer_16956348259121249\"),{backgroundColor:\"white\"});\nviewer_16956348259121249.zoomTo();\n\tviewer_16956348259121249.addModel(\"\\n     RDKit          3D\\n\\n 29 29  0  0  0  0  0  0  0  0999 V2000\\n   -2.3998    0.2300    3.3167 C   0  0  0  0  0  0  0  0  0  0  0  0\\n   -2.8658    0.5088    1.9083 C   0  0  0  0  0  0  0  0  0  0  0  0\\n   -3.3861    1.9252    1.8469 C   0  0  0  0  0  0  0  0  0  0  0  0\\n   -1.6997    0.3444    0.9631 C   0  0  0  0  0  0  0  0  0  0  0  0\\n   -2.1334   -0.1324   -0.4030 C   0  0  2  0  0  0  0  0  0  0  0  0\\n   -1.2480   -1.1833   -1.0966 C   0  0  0  0  0  0  0  0  0  0  0  0\\n   -1.1519   -1.2236   -2.3264 O   0  0  0  0  0  0  0  0  0  0  0  0\\n   -0.5488   -2.0835   -0.3485 N   0  0  0  0  0  0  0  0  0  0  0  0\\n   -0.2413   -2.0714    1.0638 C   0  0  1  0  0  0  0  0  0  0  0  0\\n   -0.9452   -3.1891    1.8152 C   0  0  0  0  0  0  0  0  0  0  0  0\\n   -0.7026   -4.5587    1.2230 C   0  0  0  0  0  0  0  0  0  0  0  0\\n   -2.4283   -2.9409    1.9344 C   0  0  0  0  0  0  0  0  0  0  0  0\\n    1.2741   -2.0917    1.3162 C   0  0  0  0  0  0  0  0  0  0  0  0\\n    1.7564   -2.7604    2.2337 O   0  0  0  0  0  0  0  0  0  0  0  0\\n    2.0768   -1.2653    0.5710 N   0  0  0  0  0  0  0  0  0  0  0  0\\n    1.7031   -0.2643   -0.4051 C   0  0  2  0  0  0  0  0  0  0  0  0\\n    2.8298   -0.0369   -1.3897 C   0  0  0  0  0  0  0  0  0  0  0  0\\n    4.0462    0.6311   -0.7784 C   0  0  0  0  0  0  0  0  0  0  0  0\\n    4.1273    2.0558   -1.2467 C   0  0  0  0  0  0  0  0  0  0  0  0\\n    5.2444    2.6810   -0.7485 N   0  0  0  0  0  0  0  0  0  0  0  0\\n    3.2859    2.5721   -1.9753 O   0  0  0  0  0  0  0  0  0  0  0  0\\n    1.2608    1.0334    0.2711 C   0  0  0  0  0  0  0  0  0  0  0  0\\n    1.6034    1.3254    1.4158 O   0  0  0  0  0  0  0  0  0  0  0  0\\n    0.4494    1.8528   -0.4702 N   0  0  0  0  0  0  0  0  0  0  0  0\\n   -0.0810    1.5537   -1.7797 C   0  0  0  0  0  0  0  0  0  0  0  0\\n   -1.5646    1.8959   -1.8250 C   0  0  0  0  0  0  0  0  0  0  0  0\\n   -1.9481    2.9346   -2.3652 O   0  0  0  0  0  0  0  0  0  0  0  0\\n   -2.4556    0.9849   -1.2802 N   0  0  0  0  0  0  0  0  0  0  0  0\\n   -3.8575    1.2722   -1.4405 C   0  0  0  0  0  0  0  0  0  0  0  0\\n  1  2  1  0\\n  2  3  1  0\\n  2  4  1  0\\n  5  4  1  1\\n  5  6  1  0\\n  6  7  2  0\\n  6  8  1  0\\n  8  9  1  0\\n  9 10  1  1\\n 10 11  1  0\\n 10 12  1  0\\n  9 13  1  0\\n 13 14  2  0\\n 13 15  1  0\\n 15 16  1  0\\n 16 17  1  1\\n 17 18  1  0\\n 18 19  1  0\\n 19 20  1  0\\n 19 21  2  0\\n 16 22  1  0\\n 22 23  2  0\\n 22 24  1  0\\n 24 25  1  0\\n 25 26  1  0\\n 26 27  2  0\\n 26 28  1  0\\n 28 29  1  0\\n 28  5  1  0\\nM  END\\n\",\"mol\");\n\tviewer_16956348259121249.setStyle({\"stick\": {}});\n\tviewer_16956348259121249.zoomTo();\nviewer_16956348259121249.render();\n});\n</script>",
      "text/html": [
       "<div id=\"3dmolviewer_16956348259121249\"  style=\"position: relative; width: 500px; height: 500px;\">\n",
       "        <p id=\"3dmolwarning_16956348259121249\" style=\"background-color:#ffcccc;color:black\">You appear to be running in JupyterLab (or JavaScript failed to load for some other reason).  You need to install the 3dmol extension: <br>\n",
       "        <tt>jupyter labextension install jupyterlab_3dmol</tt></p>\n",
       "        </div>\n",
       "<script>\n",
       "\n",
       "var loadScriptAsync = function(uri){\n",
       "  return new Promise((resolve, reject) => {\n",
       "    //this is to ignore the existence of requirejs amd\n",
       "    var savedexports, savedmodule;\n",
       "    if (typeof exports !== 'undefined') savedexports = exports;\n",
       "    else exports = {}\n",
       "    if (typeof module !== 'undefined') savedmodule = module;\n",
       "    else module = {}\n",
       "\n",
       "    var tag = document.createElement('script');\n",
       "    tag.src = uri;\n",
       "    tag.async = true;\n",
       "    tag.onload = () => {\n",
       "        exports = savedexports;\n",
       "        module = savedmodule;\n",
       "        resolve();\n",
       "    };\n",
       "  var firstScriptTag = document.getElementsByTagName('script')[0];\n",
       "  firstScriptTag.parentNode.insertBefore(tag, firstScriptTag);\n",
       "});\n",
       "};\n",
       "\n",
       "if(typeof $3Dmolpromise === 'undefined') {\n",
       "$3Dmolpromise = null;\n",
       "  $3Dmolpromise = loadScriptAsync('https://cdnjs.cloudflare.com/ajax/libs/3Dmol/2.0.4/3Dmol-min.js');\n",
       "}\n",
       "\n",
       "var viewer_16956348259121249 = null;\n",
       "var warn = document.getElementById(\"3dmolwarning_16956348259121249\");\n",
       "if(warn) {\n",
       "    warn.parentNode.removeChild(warn);\n",
       "}\n",
       "$3Dmolpromise.then(function() {\n",
       "viewer_16956348259121249 = $3Dmol.createViewer(document.getElementById(\"3dmolviewer_16956348259121249\"),{backgroundColor:\"white\"});\n",
       "viewer_16956348259121249.zoomTo();\n",
       "\tviewer_16956348259121249.addModel(\"\\n     RDKit          3D\\n\\n 29 29  0  0  0  0  0  0  0  0999 V2000\\n   -2.3998    0.2300    3.3167 C   0  0  0  0  0  0  0  0  0  0  0  0\\n   -2.8658    0.5088    1.9083 C   0  0  0  0  0  0  0  0  0  0  0  0\\n   -3.3861    1.9252    1.8469 C   0  0  0  0  0  0  0  0  0  0  0  0\\n   -1.6997    0.3444    0.9631 C   0  0  0  0  0  0  0  0  0  0  0  0\\n   -2.1334   -0.1324   -0.4030 C   0  0  2  0  0  0  0  0  0  0  0  0\\n   -1.2480   -1.1833   -1.0966 C   0  0  0  0  0  0  0  0  0  0  0  0\\n   -1.1519   -1.2236   -2.3264 O   0  0  0  0  0  0  0  0  0  0  0  0\\n   -0.5488   -2.0835   -0.3485 N   0  0  0  0  0  0  0  0  0  0  0  0\\n   -0.2413   -2.0714    1.0638 C   0  0  1  0  0  0  0  0  0  0  0  0\\n   -0.9452   -3.1891    1.8152 C   0  0  0  0  0  0  0  0  0  0  0  0\\n   -0.7026   -4.5587    1.2230 C   0  0  0  0  0  0  0  0  0  0  0  0\\n   -2.4283   -2.9409    1.9344 C   0  0  0  0  0  0  0  0  0  0  0  0\\n    1.2741   -2.0917    1.3162 C   0  0  0  0  0  0  0  0  0  0  0  0\\n    1.7564   -2.7604    2.2337 O   0  0  0  0  0  0  0  0  0  0  0  0\\n    2.0768   -1.2653    0.5710 N   0  0  0  0  0  0  0  0  0  0  0  0\\n    1.7031   -0.2643   -0.4051 C   0  0  2  0  0  0  0  0  0  0  0  0\\n    2.8298   -0.0369   -1.3897 C   0  0  0  0  0  0  0  0  0  0  0  0\\n    4.0462    0.6311   -0.7784 C   0  0  0  0  0  0  0  0  0  0  0  0\\n    4.1273    2.0558   -1.2467 C   0  0  0  0  0  0  0  0  0  0  0  0\\n    5.2444    2.6810   -0.7485 N   0  0  0  0  0  0  0  0  0  0  0  0\\n    3.2859    2.5721   -1.9753 O   0  0  0  0  0  0  0  0  0  0  0  0\\n    1.2608    1.0334    0.2711 C   0  0  0  0  0  0  0  0  0  0  0  0\\n    1.6034    1.3254    1.4158 O   0  0  0  0  0  0  0  0  0  0  0  0\\n    0.4494    1.8528   -0.4702 N   0  0  0  0  0  0  0  0  0  0  0  0\\n   -0.0810    1.5537   -1.7797 C   0  0  0  0  0  0  0  0  0  0  0  0\\n   -1.5646    1.8959   -1.8250 C   0  0  0  0  0  0  0  0  0  0  0  0\\n   -1.9481    2.9346   -2.3652 O   0  0  0  0  0  0  0  0  0  0  0  0\\n   -2.4556    0.9849   -1.2802 N   0  0  0  0  0  0  0  0  0  0  0  0\\n   -3.8575    1.2722   -1.4405 C   0  0  0  0  0  0  0  0  0  0  0  0\\n  1  2  1  0\\n  2  3  1  0\\n  2  4  1  0\\n  5  4  1  1\\n  5  6  1  0\\n  6  7  2  0\\n  6  8  1  0\\n  8  9  1  0\\n  9 10  1  1\\n 10 11  1  0\\n 10 12  1  0\\n  9 13  1  0\\n 13 14  2  0\\n 13 15  1  0\\n 15 16  1  0\\n 16 17  1  1\\n 17 18  1  0\\n 18 19  1  0\\n 19 20  1  0\\n 19 21  2  0\\n 16 22  1  0\\n 22 23  2  0\\n 22 24  1  0\\n 24 25  1  0\\n 25 26  1  0\\n 26 27  2  0\\n 26 28  1  0\\n 28 29  1  0\\n 28  5  1  0\\nM  END\\n\",\"mol\");\n",
       "\tviewer_16956348259121249.setStyle({\"stick\": {}});\n",
       "\tviewer_16956348259121249.zoomTo();\n",
       "viewer_16956348259121249.render();\n",
       "});\n",
       "</script>"
      ]
     },
     "metadata": {},
     "output_type": "display_data"
    }
   ],
   "source": [
    "style='stick'\n",
    "conf_mol_ = Chem.RemoveHs(conf_mol)\n",
    "AllChem.EmbedMolecule(conf_mol_)\n",
    "AllChem.MMFFOptimizeMolecule(conf_mol_, maxIters=200)\n",
    "mblock = Chem.MolToMolBlock(conf_mol_)\n",
    "\n",
    "view = py3Dmol.view(width=500, height=500)\n",
    "view.addModel(mblock, 'mol')\n",
    "view.setStyle({style:{}})\n",
    "view.zoomTo()\n",
    "view.show()"
   ]
  },
  {
   "cell_type": "code",
   "execution_count": null,
   "id": "683e92cb",
   "metadata": {},
   "outputs": [],
   "source": []
  }
 ],
 "metadata": {
  "kernelspec": {
   "display_name": "Python 3 (ipykernel)",
   "language": "python",
   "name": "python3"
  },
  "language_info": {
   "codemirror_mode": {
    "name": "ipython",
    "version": 3
   },
   "file_extension": ".py",
   "mimetype": "text/x-python",
   "name": "python",
   "nbconvert_exporter": "python",
   "pygments_lexer": "ipython3",
   "version": "3.7.16"
  }
 },
 "nbformat": 4,
 "nbformat_minor": 5
}
