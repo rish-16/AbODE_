{
 "cells": [
  {
   "cell_type": "code",
   "execution_count": 1,
   "id": "a39ca59d",
   "metadata": {},
   "outputs": [],
   "source": [
    "from rdkit import Chem\n",
    "import matplotlib.pyplot as plt\n",
    "import numpy as np\n",
    "import pickle as pkl"
   ]
  },
  {
   "cell_type": "code",
   "execution_count": 2,
   "id": "83263e2c",
   "metadata": {},
   "outputs": [],
   "source": [
    "path = \"P.Men.A.MeW.pickle\"\n",
    "\n",
    "with open(path, \"rb\") as f:\n",
    "    data = pkl.load(f)"
   ]
  },
  {
   "cell_type": "code",
   "execution_count": 22,
   "id": "f10e672d",
   "metadata": {},
   "outputs": [],
   "source": [
    "conf_mol = data['rd_mol']"
   ]
  },
  {
   "cell_type": "code",
   "execution_count": 4,
   "id": "a066622f",
   "metadata": {},
   "outputs": [
    {
     "name": "stdout",
     "output_type": "stream",
     "text": [
      "412\n"
     ]
    }
   ],
   "source": [
    "print (len(conf_mol.GetConformers()))"
   ]
  },
  {
   "cell_type": "code",
   "execution_count": 11,
   "id": "dd2c9f44",
   "metadata": {},
   "outputs": [],
   "source": [
    "from rdkit.Chem import Draw\n",
    "from rdkit.Chem import AllChem"
   ]
  },
  {
   "cell_type": "code",
   "execution_count": 12,
   "id": "36a1b928",
   "metadata": {},
   "outputs": [
    {
     "name": "stdout",
     "output_type": "stream",
     "text": [
      "Collecting kora\n",
      "  Downloading kora-0.9.20-py3-none-any.whl (57 kB)\n",
      "\u001b[2K     \u001b[38;2;114;156;31m━━━━━━━━━━━━━━━━━━━━━━━━━━━━━━━━━━━━━━━━\u001b[0m \u001b[32m57.7/57.7 kB\u001b[0m \u001b[31m1.9 MB/s\u001b[0m eta \u001b[36m0:00:00\u001b[0m\n",
      "\u001b[?25hCollecting py3Dmol\n",
      "  Obtaining dependency information for py3Dmol from https://files.pythonhosted.org/packages/b5/3d/052e5932ef95624e118b886feb58a9c60595e89da74515604933b6b0e6a5/py3Dmol-2.0.4-py2.py3-none-any.whl.metadata\n",
      "  Downloading py3Dmol-2.0.4-py2.py3-none-any.whl.metadata (2.1 kB)\n",
      "Requirement already satisfied: ipython in /opt/anaconda3/envs/pyg3/lib/python3.7/site-packages (from kora) (7.34.0)\n",
      "Collecting fastcore (from kora)\n",
      "  Downloading fastcore-1.5.29-py3-none-any.whl (67 kB)\n",
      "\u001b[2K     \u001b[38;2;114;156;31m━━━━━━━━━━━━━━━━━━━━━━━━━━━━━━━━━━━━━━━━\u001b[0m \u001b[32m67.6/67.6 kB\u001b[0m \u001b[31m2.3 MB/s\u001b[0m eta \u001b[36m0:00:00\u001b[0m\n",
      "\u001b[?25hRequirement already satisfied: pip in /opt/anaconda3/envs/pyg3/lib/python3.7/site-packages (from fastcore->kora) (23.2.1)\n",
      "Requirement already satisfied: packaging in /opt/anaconda3/envs/pyg3/lib/python3.7/site-packages (from fastcore->kora) (23.1)\n",
      "Requirement already satisfied: setuptools>=18.5 in /opt/anaconda3/envs/pyg3/lib/python3.7/site-packages (from ipython->kora) (68.0.0)\n",
      "Requirement already satisfied: jedi>=0.16 in /opt/anaconda3/envs/pyg3/lib/python3.7/site-packages (from ipython->kora) (0.18.2)\n",
      "Requirement already satisfied: decorator in /opt/anaconda3/envs/pyg3/lib/python3.7/site-packages (from ipython->kora) (5.1.1)\n",
      "Requirement already satisfied: pickleshare in /opt/anaconda3/envs/pyg3/lib/python3.7/site-packages (from ipython->kora) (0.7.5)\n",
      "Requirement already satisfied: traitlets>=4.2 in /opt/anaconda3/envs/pyg3/lib/python3.7/site-packages (from ipython->kora) (5.9.0)\n",
      "Requirement already satisfied: prompt-toolkit!=3.0.0,!=3.0.1,<3.1.0,>=2.0.0 in /opt/anaconda3/envs/pyg3/lib/python3.7/site-packages (from ipython->kora) (3.0.38)\n",
      "Requirement already satisfied: pygments in /opt/anaconda3/envs/pyg3/lib/python3.7/site-packages (from ipython->kora) (2.15.1)\n",
      "Requirement already satisfied: backcall in /opt/anaconda3/envs/pyg3/lib/python3.7/site-packages (from ipython->kora) (0.2.0)\n",
      "Requirement already satisfied: matplotlib-inline in /opt/anaconda3/envs/pyg3/lib/python3.7/site-packages (from ipython->kora) (0.1.6)\n",
      "Requirement already satisfied: pexpect>4.3 in /opt/anaconda3/envs/pyg3/lib/python3.7/site-packages (from ipython->kora) (4.8.0)\n",
      "Requirement already satisfied: appnope in /opt/anaconda3/envs/pyg3/lib/python3.7/site-packages (from ipython->kora) (0.1.3)\n",
      "Requirement already satisfied: parso<0.9.0,>=0.8.0 in /opt/anaconda3/envs/pyg3/lib/python3.7/site-packages (from jedi>=0.16->ipython->kora) (0.8.3)\n",
      "Requirement already satisfied: ptyprocess>=0.5 in /opt/anaconda3/envs/pyg3/lib/python3.7/site-packages (from pexpect>4.3->ipython->kora) (0.7.0)\n",
      "Requirement already satisfied: wcwidth in /opt/anaconda3/envs/pyg3/lib/python3.7/site-packages (from prompt-toolkit!=3.0.0,!=3.0.1,<3.1.0,>=2.0.0->ipython->kora) (0.2.6)\n",
      "Downloading py3Dmol-2.0.4-py2.py3-none-any.whl (12 kB)\n",
      "Installing collected packages: py3Dmol, fastcore, kora\n",
      "Successfully installed fastcore-1.5.29 kora-0.9.20 py3Dmol-2.0.4\n"
     ]
    }
   ],
   "source": [
    "!pip install kora py3Dmol"
   ]
  },
  {
   "cell_type": "code",
   "execution_count": 14,
   "id": "d83f8314",
   "metadata": {},
   "outputs": [],
   "source": [
    "import kora.install.rdkit\n",
    "import py3Dmol"
   ]
  },
  {
   "cell_type": "code",
   "execution_count": 24,
   "id": "9f31d5ed",
   "metadata": {},
   "outputs": [
    {
     "name": "stderr",
     "output_type": "stream",
     "text": [
      "[16:32:56] Molecule does not have explicit Hs. Consider calling AddHs()\n",
      "[16:32:56] Molecule does not have explicit Hs. Consider calling AddHs()\n"
     ]
    },
    {
     "data": {
      "application/3dmoljs_load.v0": "<div id=\"3dmolviewer_16956307768608499\"  style=\"position: relative; width: 500px; height: 500px;\">\n        <p id=\"3dmolwarning_16956307768608499\" style=\"background-color:#ffcccc;color:black\">You appear to be running in JupyterLab (or JavaScript failed to load for some other reason).  You need to install the 3dmol extension: <br>\n        <tt>jupyter labextension install jupyterlab_3dmol</tt></p>\n        </div>\n<script>\n\nvar loadScriptAsync = function(uri){\n  return new Promise((resolve, reject) => {\n    //this is to ignore the existence of requirejs amd\n    var savedexports, savedmodule;\n    if (typeof exports !== 'undefined') savedexports = exports;\n    else exports = {}\n    if (typeof module !== 'undefined') savedmodule = module;\n    else module = {}\n\n    var tag = document.createElement('script');\n    tag.src = uri;\n    tag.async = true;\n    tag.onload = () => {\n        exports = savedexports;\n        module = savedmodule;\n        resolve();\n    };\n  var firstScriptTag = document.getElementsByTagName('script')[0];\n  firstScriptTag.parentNode.insertBefore(tag, firstScriptTag);\n});\n};\n\nif(typeof $3Dmolpromise === 'undefined') {\n$3Dmolpromise = null;\n  $3Dmolpromise = loadScriptAsync('https://cdnjs.cloudflare.com/ajax/libs/3Dmol/2.0.4/3Dmol-min.js');\n}\n\nvar viewer_16956307768608499 = null;\nvar warn = document.getElementById(\"3dmolwarning_16956307768608499\");\nif(warn) {\n    warn.parentNode.removeChild(warn);\n}\n$3Dmolpromise.then(function() {\nviewer_16956307768608499 = $3Dmol.createViewer(document.getElementById(\"3dmolviewer_16956307768608499\"),{backgroundColor:\"white\"});\nviewer_16956307768608499.zoomTo();\n\tviewer_16956307768608499.addModel(\"\\n     RDKit          3D\\n\\n 36 39  0  0  0  0  0  0  0  0999 V2000\\n    0.0672   -3.1624    0.8709 C   0  0  0  0  0  0  0  0  0  0  0  0\\n    0.9172   -1.9120    0.8569 C   0  0  2  0  0  0  0  0  0  0  0  0\\n    2.2962   -2.2972    0.6399 N   0  0  0  0  0  0  0  0  0  0  0  0\\n    3.3356   -1.4776    0.2844 C   0  0  0  0  0  0  0  0  0  0  0  0\\n    4.5084   -1.8439    0.3658 O   0  0  0  0  0  0  0  0  0  0  0  0\\n    2.9808   -0.0469   -0.1250 C   0  0  1  0  0  0  0  0  0  0  0  0\\n    4.1718    0.8535   -0.3542 C   0  0  0  0  0  0  0  0  0  0  0  0\\n    5.0848    0.3701   -1.4440 C   0  0  0  0  0  0  0  0  0  0  0  0\\n    6.3957    0.6721   -1.1554 N   0  0  0  0  0  0  0  0  0  0  0  0\\n    4.6930   -0.1496   -2.4828 O   0  0  0  0  0  0  0  0  0  0  0  0\\n    1.8517    0.1720   -1.0082 N   0  0  0  0  0  0  0  0  0  0  0  0\\n    1.8586   -0.5068   -2.2865 C   0  0  0  0  0  0  0  0  0  0  0  0\\n    0.7824    0.9965   -0.7281 C   0  0  0  0  0  0  0  0  0  0  0  0\\n   -0.1722    1.1061   -1.4949 O   0  0  0  0  0  0  0  0  0  0  0  0\\n    0.8542    1.7419    0.6110 C   0  0  1  0  0  0  0  0  0  0  0  0\\n    1.6668    3.0088    0.3804 C   0  0  0  0  0  0  0  0  0  0  0  0\\n    0.8912    4.1312    1.0470 C   0  0  0  0  0  0  0  0  0  0  0  0\\n   -0.5408    3.6402    1.1306 C   0  0  0  0  0  0  0  0  0  0  0  0\\n   -0.4484    2.2053    1.0518 N   0  0  0  0  0  0  0  0  0  0  0  0\\n   -1.5068    1.4219    1.4487 C   0  0  0  0  0  0  0  0  0  0  0  0\\n   -2.5335    1.9111    1.9213 O   0  0  0  0  0  0  0  0  0  0  0  0\\n   -1.2929   -0.0988    1.3664 C   0  0  2  0  0  0  0  0  0  0  0  0\\n   -2.6352   -0.8044    1.3948 C   0  0  0  0  0  0  0  0  0  0  0  0\\n   -3.0382   -1.2903    0.0541 C   0  0  0  0  0  0  0  0  0  0  0  0\\n   -2.9380   -2.5845   -0.4111 C   0  0  0  0  0  0  0  0  0  0  0  0\\n   -3.4220   -2.6175   -1.6850 N   0  0  0  0  0  0  0  0  0  0  0  0\\n   -3.8503   -1.3761   -2.0715 C   0  0  0  0  0  0  0  0  0  0  0  0\\n   -4.4138   -0.9547   -3.2789 C   0  0  0  0  0  0  0  0  0  0  0  0\\n   -4.7553    0.3960   -3.3822 C   0  0  0  0  0  0  0  0  0  0  0  0\\n   -4.5457    1.2791   -2.3288 C   0  0  0  0  0  0  0  0  0  0  0  0\\n   -3.9831    0.8385   -1.1291 C   0  0  0  0  0  0  0  0  0  0  0  0\\n   -3.6248   -0.5163   -0.9954 C   0  0  0  0  0  0  0  0  0  0  0  0\\n   -0.4180   -0.5623    2.4444 N   0  0  0  0  0  0  0  0  0  0  0  0\\n   -0.6552   -0.0405    3.7735 C   0  0  0  0  0  0  0  0  0  0  0  0\\n    0.7705   -1.2281    2.2212 C   0  0  0  0  0  0  0  0  0  0  0  0\\n    1.6483   -1.2744    3.0821 O   0  0  0  0  0  0  0  0  0  0  0  0\\n  2  1  1  1\\n  2  3  1  0\\n  3  4  1  0\\n  4  5  2  0\\n  4  6  1  0\\n  6  7  1  6\\n  7  8  1  0\\n  8  9  1  0\\n  8 10  2  0\\n  6 11  1  0\\n 11 12  1  0\\n 11 13  1  0\\n 13 14  2  0\\n 13 15  1  0\\n 15 16  1  1\\n 16 17  1  0\\n 17 18  1  0\\n 18 19  1  0\\n 19 20  1  0\\n 20 21  2  0\\n 20 22  1  0\\n 22 23  1  1\\n 23 24  1  0\\n 24 25  2  0\\n 25 26  1  0\\n 26 27  1  0\\n 27 28  2  0\\n 28 29  1  0\\n 29 30  2  0\\n 30 31  1  0\\n 31 32  2  0\\n 22 33  1  0\\n 33 34  1  0\\n 33 35  1  0\\n 35 36  2  0\\n 35  2  1  0\\n 19 15  1  0\\n 32 24  1  0\\n 32 27  1  0\\nM  END\\n\",\"mol\");\n\tviewer_16956307768608499.setStyle({\"stick\": {}});\n\tviewer_16956307768608499.zoomTo();\nviewer_16956307768608499.render();\n});\n</script>",
      "text/html": [
       "<div id=\"3dmolviewer_16956307768608499\"  style=\"position: relative; width: 500px; height: 500px;\">\n",
       "        <p id=\"3dmolwarning_16956307768608499\" style=\"background-color:#ffcccc;color:black\">You appear to be running in JupyterLab (or JavaScript failed to load for some other reason).  You need to install the 3dmol extension: <br>\n",
       "        <tt>jupyter labextension install jupyterlab_3dmol</tt></p>\n",
       "        </div>\n",
       "<script>\n",
       "\n",
       "var loadScriptAsync = function(uri){\n",
       "  return new Promise((resolve, reject) => {\n",
       "    //this is to ignore the existence of requirejs amd\n",
       "    var savedexports, savedmodule;\n",
       "    if (typeof exports !== 'undefined') savedexports = exports;\n",
       "    else exports = {}\n",
       "    if (typeof module !== 'undefined') savedmodule = module;\n",
       "    else module = {}\n",
       "\n",
       "    var tag = document.createElement('script');\n",
       "    tag.src = uri;\n",
       "    tag.async = true;\n",
       "    tag.onload = () => {\n",
       "        exports = savedexports;\n",
       "        module = savedmodule;\n",
       "        resolve();\n",
       "    };\n",
       "  var firstScriptTag = document.getElementsByTagName('script')[0];\n",
       "  firstScriptTag.parentNode.insertBefore(tag, firstScriptTag);\n",
       "});\n",
       "};\n",
       "\n",
       "if(typeof $3Dmolpromise === 'undefined') {\n",
       "$3Dmolpromise = null;\n",
       "  $3Dmolpromise = loadScriptAsync('https://cdnjs.cloudflare.com/ajax/libs/3Dmol/2.0.4/3Dmol-min.js');\n",
       "}\n",
       "\n",
       "var viewer_16956307768608499 = null;\n",
       "var warn = document.getElementById(\"3dmolwarning_16956307768608499\");\n",
       "if(warn) {\n",
       "    warn.parentNode.removeChild(warn);\n",
       "}\n",
       "$3Dmolpromise.then(function() {\n",
       "viewer_16956307768608499 = $3Dmol.createViewer(document.getElementById(\"3dmolviewer_16956307768608499\"),{backgroundColor:\"white\"});\n",
       "viewer_16956307768608499.zoomTo();\n",
       "\tviewer_16956307768608499.addModel(\"\\n     RDKit          3D\\n\\n 36 39  0  0  0  0  0  0  0  0999 V2000\\n    0.0672   -3.1624    0.8709 C   0  0  0  0  0  0  0  0  0  0  0  0\\n    0.9172   -1.9120    0.8569 C   0  0  2  0  0  0  0  0  0  0  0  0\\n    2.2962   -2.2972    0.6399 N   0  0  0  0  0  0  0  0  0  0  0  0\\n    3.3356   -1.4776    0.2844 C   0  0  0  0  0  0  0  0  0  0  0  0\\n    4.5084   -1.8439    0.3658 O   0  0  0  0  0  0  0  0  0  0  0  0\\n    2.9808   -0.0469   -0.1250 C   0  0  1  0  0  0  0  0  0  0  0  0\\n    4.1718    0.8535   -0.3542 C   0  0  0  0  0  0  0  0  0  0  0  0\\n    5.0848    0.3701   -1.4440 C   0  0  0  0  0  0  0  0  0  0  0  0\\n    6.3957    0.6721   -1.1554 N   0  0  0  0  0  0  0  0  0  0  0  0\\n    4.6930   -0.1496   -2.4828 O   0  0  0  0  0  0  0  0  0  0  0  0\\n    1.8517    0.1720   -1.0082 N   0  0  0  0  0  0  0  0  0  0  0  0\\n    1.8586   -0.5068   -2.2865 C   0  0  0  0  0  0  0  0  0  0  0  0\\n    0.7824    0.9965   -0.7281 C   0  0  0  0  0  0  0  0  0  0  0  0\\n   -0.1722    1.1061   -1.4949 O   0  0  0  0  0  0  0  0  0  0  0  0\\n    0.8542    1.7419    0.6110 C   0  0  1  0  0  0  0  0  0  0  0  0\\n    1.6668    3.0088    0.3804 C   0  0  0  0  0  0  0  0  0  0  0  0\\n    0.8912    4.1312    1.0470 C   0  0  0  0  0  0  0  0  0  0  0  0\\n   -0.5408    3.6402    1.1306 C   0  0  0  0  0  0  0  0  0  0  0  0\\n   -0.4484    2.2053    1.0518 N   0  0  0  0  0  0  0  0  0  0  0  0\\n   -1.5068    1.4219    1.4487 C   0  0  0  0  0  0  0  0  0  0  0  0\\n   -2.5335    1.9111    1.9213 O   0  0  0  0  0  0  0  0  0  0  0  0\\n   -1.2929   -0.0988    1.3664 C   0  0  2  0  0  0  0  0  0  0  0  0\\n   -2.6352   -0.8044    1.3948 C   0  0  0  0  0  0  0  0  0  0  0  0\\n   -3.0382   -1.2903    0.0541 C   0  0  0  0  0  0  0  0  0  0  0  0\\n   -2.9380   -2.5845   -0.4111 C   0  0  0  0  0  0  0  0  0  0  0  0\\n   -3.4220   -2.6175   -1.6850 N   0  0  0  0  0  0  0  0  0  0  0  0\\n   -3.8503   -1.3761   -2.0715 C   0  0  0  0  0  0  0  0  0  0  0  0\\n   -4.4138   -0.9547   -3.2789 C   0  0  0  0  0  0  0  0  0  0  0  0\\n   -4.7553    0.3960   -3.3822 C   0  0  0  0  0  0  0  0  0  0  0  0\\n   -4.5457    1.2791   -2.3288 C   0  0  0  0  0  0  0  0  0  0  0  0\\n   -3.9831    0.8385   -1.1291 C   0  0  0  0  0  0  0  0  0  0  0  0\\n   -3.6248   -0.5163   -0.9954 C   0  0  0  0  0  0  0  0  0  0  0  0\\n   -0.4180   -0.5623    2.4444 N   0  0  0  0  0  0  0  0  0  0  0  0\\n   -0.6552   -0.0405    3.7735 C   0  0  0  0  0  0  0  0  0  0  0  0\\n    0.7705   -1.2281    2.2212 C   0  0  0  0  0  0  0  0  0  0  0  0\\n    1.6483   -1.2744    3.0821 O   0  0  0  0  0  0  0  0  0  0  0  0\\n  2  1  1  1\\n  2  3  1  0\\n  3  4  1  0\\n  4  5  2  0\\n  4  6  1  0\\n  6  7  1  6\\n  7  8  1  0\\n  8  9  1  0\\n  8 10  2  0\\n  6 11  1  0\\n 11 12  1  0\\n 11 13  1  0\\n 13 14  2  0\\n 13 15  1  0\\n 15 16  1  1\\n 16 17  1  0\\n 17 18  1  0\\n 18 19  1  0\\n 19 20  1  0\\n 20 21  2  0\\n 20 22  1  0\\n 22 23  1  1\\n 23 24  1  0\\n 24 25  2  0\\n 25 26  1  0\\n 26 27  1  0\\n 27 28  2  0\\n 28 29  1  0\\n 29 30  2  0\\n 30 31  1  0\\n 31 32  2  0\\n 22 33  1  0\\n 33 34  1  0\\n 33 35  1  0\\n 35 36  2  0\\n 35  2  1  0\\n 19 15  1  0\\n 32 24  1  0\\n 32 27  1  0\\nM  END\\n\",\"mol\");\n",
       "\tviewer_16956307768608499.setStyle({\"stick\": {}});\n",
       "\tviewer_16956307768608499.zoomTo();\n",
       "viewer_16956307768608499.render();\n",
       "});\n",
       "</script>"
      ]
     },
     "metadata": {},
     "output_type": "display_data"
    }
   ],
   "source": [
    "style='stick'\n",
    "conf_mol_ = Chem.RemoveHs(conf_mol)\n",
    "AllChem.EmbedMolecule(conf_mol_)\n",
    "AllChem.MMFFOptimizeMolecule(conf_mol_, maxIters=200)\n",
    "mblock = Chem.MolToMolBlock(conf_mol_)\n",
    "\n",
    "view = py3Dmol.view(width=500, height=500)\n",
    "view.addModel(mblock, 'mol')\n",
    "view.setStyle({style:{}})\n",
    "view.zoomTo()\n",
    "view.show()"
   ]
  }
 ],
 "metadata": {
  "kernelspec": {
   "display_name": "Python 3 (ipykernel)",
   "language": "python",
   "name": "python3"
  },
  "language_info": {
   "codemirror_mode": {
    "name": "ipython",
    "version": 3
   },
   "file_extension": ".py",
   "mimetype": "text/x-python",
   "name": "python",
   "nbconvert_exporter": "python",
   "pygments_lexer": "ipython3",
   "version": "3.7.16"
  }
 },
 "nbformat": 4,
 "nbformat_minor": 5
}
